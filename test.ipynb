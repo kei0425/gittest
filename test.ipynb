{
 "cells": [
  {
   "cell_type": "markdown",
   "metadata": {},
   "source": [
    "# テスト用ファイル"
   ]
  },
  {
   "cell_type": "code",
   "execution_count": null,
   "metadata": {
    "collapsed": true
   },
   "outputs": [],
   "source": [
    "!ls -l"
   ]
  },
  {
   "cell_type": "raw",
   "metadata": {},
   "source": [
    "Raw形式も"
   ]
  },
  {
   "cell_type": "code",
   "execution_count": null,
   "metadata": {
    "collapsed": true
   },
   "outputs": [],
   "source": [
    "import os"
   ]
  },
  {
   "cell_type": "code",
   "execution_count": null,
   "metadata": {
    "collapsed": true
   },
   "outputs": [],
   "source": [
    "1 + 12"
   ]
  },
  {
   "cell_type": "code",
   "execution_count": null,
   "metadata": {
    "collapsed": true
   },
   "outputs": [],
   "source": [
    "2 + 2"
   ]
  },
  {
   "cell_type": "code",
   "execution_count": null,
   "metadata": {
    "collapsed": true
   },
   "outputs": [],
   "source": [
    "4 + 4"
   ]
  },
  {
   "cell_type": "code",
   "execution_count": null,
   "metadata": {
    "collapsed": true
   },
   "outputs": [],
   "source": [
    "5 + 5"
   ]
  },
  {
   "cell_type": "code",
   "execution_count": null,
   "metadata": {
    "collapsed": true
   },
   "outputs": [],
   "source": [
    "!jq '(.cells[]|select(.cell_type==\"code\"))|={\"cell_type\":.cell_type, \"source\":.source, \"metadata\":{}, \"execution_count\":null, \"outputs\":[]}' test.ipynb"
   ]
  },
  {
   "cell_type": "code",
   "execution_count": null,
   "metadata": {
    "collapsed": true
   },
   "outputs": [],
   "source": [
    "!ls -la"
   ]
  },
  {
   "cell_type": "code",
   "execution_count": null,
   "metadata": {
    "collapsed": true
   },
   "outputs": [],
   "source": [
    "!date"
   ]
  },
  {
   "cell_type": "code",
   "execution_count": null,
   "metadata": {
    "collapsed": true
   },
   "outputs": [],
   "source": [
    "%%bash\n",
    "if [ `jq '.cells | map(select(.execution_count != null)) | length' test.ipynb` -gt 0 ]\n",
    "then\n",
    "  echo 'あり'\n",
    "else\n",
    "  echo 'なし'\n",
    "fi"
   ]
  },
  {
   "cell_type": "code",
   "execution_count": 70,
   "metadata": {
    "ExecuteTime": {
     "end_time": "2018-03-09T08:00:28.725540Z",
     "start_time": "2018-03-09T08:00:28.595580Z"
    }
   },
   "outputs": [
    {
     "name": "stdout",
     "output_type": "stream",
     "text": [
      "diff --git a/test.ipynb b/test.ipynb\r\n",
      "index 92dd0c9..fe43f16 100644\r\n",
      "--- a/test.ipynb\r\n",
      "+++ b/test.ipynb\r\n",
      "@@ -97,6 +97,21 @@\r\n",
      "     },\r\n",
      "     {\r\n",
      "       \"cell_type\": \"code\",\r\n",
      "+      \"source\": [\r\n",
      "+        \"%%bash\\n\",\r\n",
      "+        \"if [ `jq '.cells | map(select(.execution_count != null)) | length' test.ipynb` -gt 0 ]\\n\",\r\n",
      "+        \"then\\n\",\r\n",
      "+        \"  echo 'あり'\\n\",\r\n",
      "+        \"else\\n\",\r\n",
      "+        \"  echo 'なし'\\n\",\r\n",
      "+        \"fi\"\r\n",
      "+      ],\r\n",
      "+      \"metadata\": {},\r\n",
      "+      \"execution_count\": null,\r\n",
      "+      \"outputs\": []\r\n",
      "+    },\r\n",
      "+    {\r\n",
      "+      \"cell_type\": \"code\",\r\n",
      "       \"source\": [],\r\n",
      "       \"metadata\": {},\r\n",
      "       \"execution_count\": null,\r\n"
     ]
    }
   ],
   "source": [
    "!git diff --cached"
   ]
  },
  {
   "cell_type": "code",
   "execution_count": 69,
   "metadata": {
    "ExecuteTime": {
     "end_time": "2018-03-09T08:00:27.186784Z",
     "start_time": "2018-03-09T08:00:27.062362Z"
    },
    "collapsed": true
   },
   "outputs": [],
   "source": [
    "!git add test.ipynb"
   ]
  },
  {
   "cell_type": "code",
   "execution_count": 76,
   "metadata": {
    "ExecuteTime": {
     "end_time": "2018-03-09T08:02:03.163045Z",
     "start_time": "2018-03-09T08:02:03.027684Z"
    }
   },
   "outputs": [
    {
     "name": "stdout",
     "output_type": "stream",
     "text": [
      "test.ipynb\r\n"
     ]
    }
   ],
   "source": [
    "!git diff --name-only --cached HEAD\n"
   ]
  },
  {
   "cell_type": "code",
   "execution_count": 77,
   "metadata": {
    "ExecuteTime": {
     "end_time": "2018-03-09T08:02:51.206004Z",
     "start_time": "2018-03-09T08:02:51.041027Z"
    }
   },
   "outputs": [
    {
     "name": "stdout",
     "output_type": "stream",
     "text": [
      "convert test.ipynb\r\n",
      "[master 4c4c1be] test6\r\n",
      " 1 file changed, 15 insertions(+)\r\n"
     ]
    }
   ],
   "source": [
    "!git commit -m 'test6'"
   ]
  },
  {
   "cell_type": "code",
   "execution_count": 78,
   "metadata": {
    "ExecuteTime": {
     "end_time": "2018-03-09T08:03:06.582915Z",
     "start_time": "2018-03-09T08:03:00.590055Z"
    }
   },
   "outputs": [
    {
     "name": "stdout",
     "output_type": "stream",
     "text": [
      "Username for 'https://github.com': ^C\n"
     ]
    }
   ],
   "source": [
    "!git push"
   ]
  },
  {
   "cell_type": "code",
   "execution_count": null,
   "metadata": {
    "collapsed": true
   },
   "outputs": [],
   "source": []
  }
 ],
 "metadata": {
  "hide_input": false,
  "kernelspec": {
   "display_name": "Python 3",
   "language": "python",
   "name": "python3"
  },
  "language_info": {
   "codemirror_mode": {
    "name": "ipython",
    "version": 3
   },
   "file_extension": ".py",
   "mimetype": "text/x-python",
   "name": "python",
   "nbconvert_exporter": "python",
   "pygments_lexer": "ipython3",
   "version": "3.6.1"
  },
  "toc": {
   "colors": {
    "hover_highlight": "#DAA520",
    "navigate_num": "#000000",
    "navigate_text": "#333333",
    "running_highlight": "#FF0000",
    "selected_highlight": "#FFD700",
    "sidebar_border": "#EEEEEE",
    "wrapper_background": "#FFFFFF"
   },
   "moveMenuLeft": true,
   "nav_menu": {
    "height": "30px",
    "width": "252px"
   },
   "navigate_menu": true,
   "number_sections": true,
   "sideBar": true,
   "threshold": 4,
   "toc_cell": false,
   "toc_section_display": "block",
   "toc_window_display": false,
   "widenNotebook": false
  },
  "varInspector": {
   "cols": {
    "lenName": 16,
    "lenType": 16,
    "lenVar": 40
   },
   "kernels_config": {
    "python": {
     "delete_cmd_postfix": "",
     "delete_cmd_prefix": "del ",
     "library": "var_list.py",
     "varRefreshCmd": "print(var_dic_list())"
    },
    "r": {
     "delete_cmd_postfix": ") ",
     "delete_cmd_prefix": "rm(",
     "library": "var_list.r",
     "varRefreshCmd": "cat(var_dic_list()) "
    }
   },
   "types_to_exclude": [
    "module",
    "function",
    "builtin_function_or_method",
    "instance",
    "_Feature"
   ],
   "window_display": false
  }
 },
 "nbformat": 4,
 "nbformat_minor": 2
}
