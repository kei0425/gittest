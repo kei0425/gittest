{
 "cells": [
  {
   "cell_type": "markdown",
   "metadata": {},
   "source": [
    "# テスト用ファイル"
   ]
  },
  {
   "cell_type": "code",
   "execution_count": 2,
   "metadata": {
    "ExecuteTime": {
     "end_time": "2018-03-09T05:43:16.132574Z",
     "start_time": "2018-03-09T05:43:15.998940Z"
    }
   },
   "outputs": [
    {
     "name": "stdout",
     "output_type": "stream",
     "text": [
      "total 16\r\n",
      "lrwxrwxrwx 1 okada okada   21  3月  9 14:13 pre-commit -> .git/hooks/pre-commit\r\n",
      "-rw-rw-r-- 1 okada okada 3796  3月  9 14:41 test.bak\r\n",
      "-rw-rw-r-- 1 okada okada 3833  3月  9 14:41 test.ipynb\r\n",
      "-rw-rw-r-- 1 okada okada 2464  3月  9 14:35 test2.bak\r\n",
      "-rw-rw-r-- 1 okada okada 2464  3月  9 14:35 test2.ipynb\r\n"
     ]
    }
   ],
   "source": [
    "!ls -l"
   ]
  },
  {
   "cell_type": "raw",
   "metadata": {},
   "source": [
    "Raw形式も"
   ]
  },
  {
   "cell_type": "code",
   "execution_count": 3,
   "metadata": {
    "ExecuteTime": {
     "end_time": "2018-03-09T05:43:17.364079Z",
     "start_time": "2018-03-09T05:43:17.356651Z"
    },
    "collapsed": true
   },
   "outputs": [],
   "source": [
    "import os"
   ]
  },
  {
   "cell_type": "code",
   "execution_count": 4,
   "metadata": {
    "ExecuteTime": {
     "end_time": "2018-03-09T05:43:17.850146Z",
     "start_time": "2018-03-09T05:43:17.830171Z"
    }
   },
   "outputs": [
    {
     "data": {
      "text/plain": [
       "2"
      ]
     },
     "execution_count": 4,
     "metadata": {},
     "output_type": "execute_result"
    }
   ],
   "source": [
    "1 + 1"
   ]
  },
  {
   "cell_type": "code",
   "execution_count": 5,
   "metadata": {
    "ExecuteTime": {
     "end_time": "2018-03-09T05:43:18.274994Z",
     "start_time": "2018-03-09T05:43:18.264164Z"
    }
   },
   "outputs": [
    {
     "data": {
      "text/plain": [
       "4"
      ]
     },
     "execution_count": 5,
     "metadata": {},
     "output_type": "execute_result"
    }
   ],
   "source": [
    "2 + 2"
   ]
  },
  {
   "cell_type": "code",
   "execution_count": 6,
   "metadata": {
    "ExecuteTime": {
     "end_time": "2018-03-09T05:43:18.686678Z",
     "start_time": "2018-03-09T05:43:18.676711Z"
    }
   },
   "outputs": [
    {
     "data": {
      "text/plain": [
       "8"
      ]
     },
     "execution_count": 6,
     "metadata": {},
     "output_type": "execute_result"
    }
   ],
   "source": [
    "4 + 4"
   ]
  },
  {
   "cell_type": "code",
   "execution_count": 7,
   "metadata": {
    "ExecuteTime": {
     "end_time": "2018-03-09T05:43:19.085454Z",
     "start_time": "2018-03-09T05:43:19.075470Z"
    }
   },
   "outputs": [
    {
     "data": {
      "text/plain": [
       "10"
      ]
     },
     "execution_count": 7,
     "metadata": {},
     "output_type": "execute_result"
    }
   ],
   "source": [
    "5 + 5"
   ]
  },
  {
   "cell_type": "code",
   "execution_count": 8,
   "metadata": {
    "ExecuteTime": {
     "end_time": "2018-03-09T05:43:19.650333Z",
     "start_time": "2018-03-09T05:43:19.503807Z"
    }
   },
   "outputs": [
    {
     "name": "stdout",
     "output_type": "stream",
     "text": [
      "\u001b[1;39m{\r\n",
      "  \u001b[0m\u001b[34;1m\"cells\"\u001b[0m\u001b[1;39m: \u001b[0m\u001b[1;39m[\r\n",
      "    \u001b[1;39m{\r\n",
      "      \u001b[0m\u001b[34;1m\"cell_type\"\u001b[0m\u001b[1;39m: \u001b[0m\u001b[0;32m\"markdown\"\u001b[0m\u001b[1;39m,\r\n",
      "      \u001b[0m\u001b[34;1m\"metadata\"\u001b[0m\u001b[1;39m: \u001b[0m\u001b[1;39m{}\u001b[0m\u001b[1;39m,\r\n",
      "      \u001b[0m\u001b[34;1m\"source\"\u001b[0m\u001b[1;39m: \u001b[0m\u001b[1;39m[\r\n",
      "        \u001b[0;32m\"# テスト用ファイル\"\u001b[0m\u001b[1;39m\r\n",
      "      \u001b[1;39m]\u001b[0m\u001b[1;39m\r\n",
      "    \u001b[1;39m}\u001b[0m\u001b[1;39m,\r\n",
      "    \u001b[1;39m{\r\n",
      "      \u001b[0m\u001b[34;1m\"cell_type\"\u001b[0m\u001b[1;39m: \u001b[0m\u001b[0;32m\"code\"\u001b[0m\u001b[1;39m,\r\n",
      "      \u001b[0m\u001b[34;1m\"source\"\u001b[0m\u001b[1;39m: \u001b[0m\u001b[1;39m[\r\n",
      "        \u001b[0;32m\"!ls -l\"\u001b[0m\u001b[1;39m\r\n",
      "      \u001b[1;39m]\u001b[0m\u001b[1;39m,\r\n",
      "      \u001b[0m\u001b[34;1m\"metadata\"\u001b[0m\u001b[1;39m: \u001b[0m\u001b[1;39m{}\u001b[0m\u001b[1;39m,\r\n",
      "      \u001b[0m\u001b[34;1m\"execution_count\"\u001b[0m\u001b[1;39m: \u001b[0m\u001b[1;30mnull\u001b[0m\u001b[1;39m,\r\n",
      "      \u001b[0m\u001b[34;1m\"outputs\"\u001b[0m\u001b[1;39m: \u001b[0m\u001b[1;39m[]\u001b[0m\u001b[1;39m\r\n",
      "    \u001b[1;39m}\u001b[0m\u001b[1;39m,\r\n",
      "    \u001b[1;39m{\r\n",
      "      \u001b[0m\u001b[34;1m\"cell_type\"\u001b[0m\u001b[1;39m: \u001b[0m\u001b[0;32m\"raw\"\u001b[0m\u001b[1;39m,\r\n",
      "      \u001b[0m\u001b[34;1m\"metadata\"\u001b[0m\u001b[1;39m: \u001b[0m\u001b[1;39m{}\u001b[0m\u001b[1;39m,\r\n",
      "      \u001b[0m\u001b[34;1m\"source\"\u001b[0m\u001b[1;39m: \u001b[0m\u001b[1;39m[\r\n",
      "        \u001b[0;32m\"Raw形式も\"\u001b[0m\u001b[1;39m\r\n",
      "      \u001b[1;39m]\u001b[0m\u001b[1;39m\r\n",
      "    \u001b[1;39m}\u001b[0m\u001b[1;39m,\r\n",
      "    \u001b[1;39m{\r\n",
      "      \u001b[0m\u001b[34;1m\"cell_type\"\u001b[0m\u001b[1;39m: \u001b[0m\u001b[0;32m\"code\"\u001b[0m\u001b[1;39m,\r\n",
      "      \u001b[0m\u001b[34;1m\"source\"\u001b[0m\u001b[1;39m: \u001b[0m\u001b[1;39m[\r\n",
      "        \u001b[0;32m\"import os\"\u001b[0m\u001b[1;39m\r\n",
      "      \u001b[1;39m]\u001b[0m\u001b[1;39m,\r\n",
      "      \u001b[0m\u001b[34;1m\"metadata\"\u001b[0m\u001b[1;39m: \u001b[0m\u001b[1;39m{}\u001b[0m\u001b[1;39m,\r\n",
      "      \u001b[0m\u001b[34;1m\"execution_count\"\u001b[0m\u001b[1;39m: \u001b[0m\u001b[1;30mnull\u001b[0m\u001b[1;39m,\r\n",
      "      \u001b[0m\u001b[34;1m\"outputs\"\u001b[0m\u001b[1;39m: \u001b[0m\u001b[1;39m[]\u001b[0m\u001b[1;39m\r\n",
      "    \u001b[1;39m}\u001b[0m\u001b[1;39m,\r\n",
      "    \u001b[1;39m{\r\n",
      "      \u001b[0m\u001b[34;1m\"cell_type\"\u001b[0m\u001b[1;39m: \u001b[0m\u001b[0;32m\"code\"\u001b[0m\u001b[1;39m,\r\n",
      "      \u001b[0m\u001b[34;1m\"source\"\u001b[0m\u001b[1;39m: \u001b[0m\u001b[1;39m[\r\n",
      "        \u001b[0;32m\"1 + 1\"\u001b[0m\u001b[1;39m\r\n",
      "      \u001b[1;39m]\u001b[0m\u001b[1;39m,\r\n",
      "      \u001b[0m\u001b[34;1m\"metadata\"\u001b[0m\u001b[1;39m: \u001b[0m\u001b[1;39m{}\u001b[0m\u001b[1;39m,\r\n",
      "      \u001b[0m\u001b[34;1m\"execution_count\"\u001b[0m\u001b[1;39m: \u001b[0m\u001b[1;30mnull\u001b[0m\u001b[1;39m,\r\n",
      "      \u001b[0m\u001b[34;1m\"outputs\"\u001b[0m\u001b[1;39m: \u001b[0m\u001b[1;39m[]\u001b[0m\u001b[1;39m\r\n",
      "    \u001b[1;39m}\u001b[0m\u001b[1;39m,\r\n",
      "    \u001b[1;39m{\r\n",
      "      \u001b[0m\u001b[34;1m\"cell_type\"\u001b[0m\u001b[1;39m: \u001b[0m\u001b[0;32m\"code\"\u001b[0m\u001b[1;39m,\r\n",
      "      \u001b[0m\u001b[34;1m\"source\"\u001b[0m\u001b[1;39m: \u001b[0m\u001b[1;39m[\r\n",
      "        \u001b[0;32m\"2 + 2\"\u001b[0m\u001b[1;39m\r\n",
      "      \u001b[1;39m]\u001b[0m\u001b[1;39m,\r\n",
      "      \u001b[0m\u001b[34;1m\"metadata\"\u001b[0m\u001b[1;39m: \u001b[0m\u001b[1;39m{}\u001b[0m\u001b[1;39m,\r\n",
      "      \u001b[0m\u001b[34;1m\"execution_count\"\u001b[0m\u001b[1;39m: \u001b[0m\u001b[1;30mnull\u001b[0m\u001b[1;39m,\r\n",
      "      \u001b[0m\u001b[34;1m\"outputs\"\u001b[0m\u001b[1;39m: \u001b[0m\u001b[1;39m[]\u001b[0m\u001b[1;39m\r\n",
      "    \u001b[1;39m}\u001b[0m\u001b[1;39m,\r\n",
      "    \u001b[1;39m{\r\n",
      "      \u001b[0m\u001b[34;1m\"cell_type\"\u001b[0m\u001b[1;39m: \u001b[0m\u001b[0;32m\"code\"\u001b[0m\u001b[1;39m,\r\n",
      "      \u001b[0m\u001b[34;1m\"source\"\u001b[0m\u001b[1;39m: \u001b[0m\u001b[1;39m[\r\n",
      "        \u001b[0;32m\"4 + 4\"\u001b[0m\u001b[1;39m\r\n",
      "      \u001b[1;39m]\u001b[0m\u001b[1;39m,\r\n",
      "      \u001b[0m\u001b[34;1m\"metadata\"\u001b[0m\u001b[1;39m: \u001b[0m\u001b[1;39m{}\u001b[0m\u001b[1;39m,\r\n",
      "      \u001b[0m\u001b[34;1m\"execution_count\"\u001b[0m\u001b[1;39m: \u001b[0m\u001b[1;30mnull\u001b[0m\u001b[1;39m,\r\n",
      "      \u001b[0m\u001b[34;1m\"outputs\"\u001b[0m\u001b[1;39m: \u001b[0m\u001b[1;39m[]\u001b[0m\u001b[1;39m\r\n",
      "    \u001b[1;39m}\u001b[0m\u001b[1;39m,\r\n",
      "    \u001b[1;39m{\r\n",
      "      \u001b[0m\u001b[34;1m\"cell_type\"\u001b[0m\u001b[1;39m: \u001b[0m\u001b[0;32m\"code\"\u001b[0m\u001b[1;39m,\r\n",
      "      \u001b[0m\u001b[34;1m\"source\"\u001b[0m\u001b[1;39m: \u001b[0m\u001b[1;39m[\r\n",
      "        \u001b[0;32m\"5 + 5\"\u001b[0m\u001b[1;39m\r\n",
      "      \u001b[1;39m]\u001b[0m\u001b[1;39m,\r\n",
      "      \u001b[0m\u001b[34;1m\"metadata\"\u001b[0m\u001b[1;39m: \u001b[0m\u001b[1;39m{}\u001b[0m\u001b[1;39m,\r\n",
      "      \u001b[0m\u001b[34;1m\"execution_count\"\u001b[0m\u001b[1;39m: \u001b[0m\u001b[1;30mnull\u001b[0m\u001b[1;39m,\r\n",
      "      \u001b[0m\u001b[34;1m\"outputs\"\u001b[0m\u001b[1;39m: \u001b[0m\u001b[1;39m[]\u001b[0m\u001b[1;39m\r\n",
      "    \u001b[1;39m}\u001b[0m\u001b[1;39m,\r\n",
      "    \u001b[1;39m{\r\n",
      "      \u001b[0m\u001b[34;1m\"cell_type\"\u001b[0m\u001b[1;39m: \u001b[0m\u001b[0;32m\"code\"\u001b[0m\u001b[1;39m,\r\n",
      "      \u001b[0m\u001b[34;1m\"source\"\u001b[0m\u001b[1;39m: \u001b[0m\u001b[1;39m[\r\n",
      "        \u001b[0;32m\"!jq '(.cells[]|select(.cell_type==\\\"code\\\"))|={\\\"cell_type\\\":.cell_type, \\\"source\\\":.source, \\\"metadata\\\":{}, \\\"execution_count\\\":null, \\\"outputs\\\":[]}' test.ipynb\"\u001b[0m\u001b[1;39m\r\n",
      "      \u001b[1;39m]\u001b[0m\u001b[1;39m,\r\n",
      "      \u001b[0m\u001b[34;1m\"metadata\"\u001b[0m\u001b[1;39m: \u001b[0m\u001b[1;39m{}\u001b[0m\u001b[1;39m,\r\n",
      "      \u001b[0m\u001b[34;1m\"execution_count\"\u001b[0m\u001b[1;39m: \u001b[0m\u001b[1;30mnull\u001b[0m\u001b[1;39m,\r\n",
      "      \u001b[0m\u001b[34;1m\"outputs\"\u001b[0m\u001b[1;39m: \u001b[0m\u001b[1;39m[]\u001b[0m\u001b[1;39m\r\n",
      "    \u001b[1;39m}\u001b[0m\u001b[1;39m,\r\n",
      "    \u001b[1;39m{\r\n",
      "      \u001b[0m\u001b[34;1m\"cell_type\"\u001b[0m\u001b[1;39m: \u001b[0m\u001b[0;32m\"code\"\u001b[0m\u001b[1;39m,\r\n",
      "      \u001b[0m\u001b[34;1m\"source\"\u001b[0m\u001b[1;39m: \u001b[0m\u001b[1;39m[\r\n",
      "        \u001b[0;32m\"!ls -la\"\u001b[0m\u001b[1;39m\r\n",
      "      \u001b[1;39m]\u001b[0m\u001b[1;39m,\r\n",
      "      \u001b[0m\u001b[34;1m\"metadata\"\u001b[0m\u001b[1;39m: \u001b[0m\u001b[1;39m{}\u001b[0m\u001b[1;39m,\r\n",
      "      \u001b[0m\u001b[34;1m\"execution_count\"\u001b[0m\u001b[1;39m: \u001b[0m\u001b[1;30mnull\u001b[0m\u001b[1;39m,\r\n",
      "      \u001b[0m\u001b[34;1m\"outputs\"\u001b[0m\u001b[1;39m: \u001b[0m\u001b[1;39m[]\u001b[0m\u001b[1;39m\r\n",
      "    \u001b[1;39m}\u001b[0m\u001b[1;39m,\r\n",
      "    \u001b[1;39m{\r\n",
      "      \u001b[0m\u001b[34;1m\"cell_type\"\u001b[0m\u001b[1;39m: \u001b[0m\u001b[0;32m\"code\"\u001b[0m\u001b[1;39m,\r\n",
      "      \u001b[0m\u001b[34;1m\"source\"\u001b[0m\u001b[1;39m: \u001b[0m\u001b[1;39m[\r\n",
      "        \u001b[0;32m\"!date\"\u001b[0m\u001b[1;39m\r\n",
      "      \u001b[1;39m]\u001b[0m\u001b[1;39m,\r\n",
      "      \u001b[0m\u001b[34;1m\"metadata\"\u001b[0m\u001b[1;39m: \u001b[0m\u001b[1;39m{}\u001b[0m\u001b[1;39m,\r\n",
      "      \u001b[0m\u001b[34;1m\"execution_count\"\u001b[0m\u001b[1;39m: \u001b[0m\u001b[1;30mnull\u001b[0m\u001b[1;39m,\r\n",
      "      \u001b[0m\u001b[34;1m\"outputs\"\u001b[0m\u001b[1;39m: \u001b[0m\u001b[1;39m[]\u001b[0m\u001b[1;39m\r\n",
      "    \u001b[1;39m}\u001b[0m\u001b[1;39m,\r\n",
      "    \u001b[1;39m{\r\n",
      "      \u001b[0m\u001b[34;1m\"cell_type\"\u001b[0m\u001b[1;39m: \u001b[0m\u001b[0;32m\"code\"\u001b[0m\u001b[1;39m,\r\n",
      "      \u001b[0m\u001b[34;1m\"source\"\u001b[0m\u001b[1;39m: \u001b[0m\u001b[1;39m[]\u001b[0m\u001b[1;39m,\r\n",
      "      \u001b[0m\u001b[34;1m\"metadata\"\u001b[0m\u001b[1;39m: \u001b[0m\u001b[1;39m{}\u001b[0m\u001b[1;39m,\r\n",
      "      \u001b[0m\u001b[34;1m\"execution_count\"\u001b[0m\u001b[1;39m: \u001b[0m\u001b[1;30mnull\u001b[0m\u001b[1;39m,\r\n",
      "      \u001b[0m\u001b[34;1m\"outputs\"\u001b[0m\u001b[1;39m: \u001b[0m\u001b[1;39m[]\u001b[0m\u001b[1;39m\r\n",
      "    \u001b[1;39m}\u001b[0m\u001b[1;39m\r\n",
      "  \u001b[1;39m]\u001b[0m\u001b[1;39m,\r\n",
      "  \u001b[0m\u001b[34;1m\"metadata\"\u001b[0m\u001b[1;39m: \u001b[0m\u001b[1;39m{\r\n",
      "    \u001b[0m\u001b[34;1m\"hide_input\"\u001b[0m\u001b[1;39m: \u001b[0m\u001b[0;39mfalse\u001b[0m\u001b[1;39m,\r\n",
      "    \u001b[0m\u001b[34;1m\"kernelspec\"\u001b[0m\u001b[1;39m: \u001b[0m\u001b[1;39m{\r\n",
      "      \u001b[0m\u001b[34;1m\"display_name\"\u001b[0m\u001b[1;39m: \u001b[0m\u001b[0;32m\"Python 3\"\u001b[0m\u001b[1;39m,\r\n",
      "      \u001b[0m\u001b[34;1m\"language\"\u001b[0m\u001b[1;39m: \u001b[0m\u001b[0;32m\"python\"\u001b[0m\u001b[1;39m,\r\n",
      "      \u001b[0m\u001b[34;1m\"name\"\u001b[0m\u001b[1;39m: \u001b[0m\u001b[0;32m\"python3\"\u001b[0m\u001b[1;39m\r\n",
      "    \u001b[1;39m}\u001b[0m\u001b[1;39m,\r\n",
      "    \u001b[0m\u001b[34;1m\"language_info\"\u001b[0m\u001b[1;39m: \u001b[0m\u001b[1;39m{\r\n",
      "      \u001b[0m\u001b[34;1m\"codemirror_mode\"\u001b[0m\u001b[1;39m: \u001b[0m\u001b[1;39m{\r\n",
      "        \u001b[0m\u001b[34;1m\"name\"\u001b[0m\u001b[1;39m: \u001b[0m\u001b[0;32m\"ipython\"\u001b[0m\u001b[1;39m,\r\n",
      "        \u001b[0m\u001b[34;1m\"version\"\u001b[0m\u001b[1;39m: \u001b[0m\u001b[0;39m3\u001b[0m\u001b[1;39m\r\n",
      "      \u001b[1;39m}\u001b[0m\u001b[1;39m,\r\n",
      "      \u001b[0m\u001b[34;1m\"file_extension\"\u001b[0m\u001b[1;39m: \u001b[0m\u001b[0;32m\".py\"\u001b[0m\u001b[1;39m,\r\n",
      "      \u001b[0m\u001b[34;1m\"mimetype\"\u001b[0m\u001b[1;39m: \u001b[0m\u001b[0;32m\"text/x-python\"\u001b[0m\u001b[1;39m,\r\n",
      "      \u001b[0m\u001b[34;1m\"name\"\u001b[0m\u001b[1;39m: \u001b[0m\u001b[0;32m\"python\"\u001b[0m\u001b[1;39m,\r\n",
      "      \u001b[0m\u001b[34;1m\"nbconvert_exporter\"\u001b[0m\u001b[1;39m: \u001b[0m\u001b[0;32m\"python\"\u001b[0m\u001b[1;39m,\r\n",
      "      \u001b[0m\u001b[34;1m\"pygments_lexer\"\u001b[0m\u001b[1;39m: \u001b[0m\u001b[0;32m\"ipython3\"\u001b[0m\u001b[1;39m,\r\n",
      "      \u001b[0m\u001b[34;1m\"version\"\u001b[0m\u001b[1;39m: \u001b[0m\u001b[0;32m\"3.6.1\"\u001b[0m\u001b[1;39m\r\n",
      "    \u001b[1;39m}\u001b[0m\u001b[1;39m,\r\n",
      "    \u001b[0m\u001b[34;1m\"toc\"\u001b[0m\u001b[1;39m: \u001b[0m\u001b[1;39m{\r\n",
      "      \u001b[0m\u001b[34;1m\"colors\"\u001b[0m\u001b[1;39m: \u001b[0m\u001b[1;39m{\r\n",
      "        \u001b[0m\u001b[34;1m\"hover_highlight\"\u001b[0m\u001b[1;39m: \u001b[0m\u001b[0;32m\"#DAA520\"\u001b[0m\u001b[1;39m,\r\n",
      "        \u001b[0m\u001b[34;1m\"navigate_num\"\u001b[0m\u001b[1;39m: \u001b[0m\u001b[0;32m\"#000000\"\u001b[0m\u001b[1;39m,\r\n",
      "        \u001b[0m\u001b[34;1m\"navigate_text\"\u001b[0m\u001b[1;39m: \u001b[0m\u001b[0;32m\"#333333\"\u001b[0m\u001b[1;39m,\r\n",
      "        \u001b[0m\u001b[34;1m\"running_highlight\"\u001b[0m\u001b[1;39m: \u001b[0m\u001b[0;32m\"#FF0000\"\u001b[0m\u001b[1;39m,\r\n",
      "        \u001b[0m\u001b[34;1m\"selected_highlight\"\u001b[0m\u001b[1;39m: \u001b[0m\u001b[0;32m\"#FFD700\"\u001b[0m\u001b[1;39m,\r\n",
      "        \u001b[0m\u001b[34;1m\"sidebar_border\"\u001b[0m\u001b[1;39m: \u001b[0m\u001b[0;32m\"#EEEEEE\"\u001b[0m\u001b[1;39m,\r\n",
      "        \u001b[0m\u001b[34;1m\"wrapper_background\"\u001b[0m\u001b[1;39m: \u001b[0m\u001b[0;32m\"#FFFFFF\"\u001b[0m\u001b[1;39m\r\n",
      "      \u001b[1;39m}\u001b[0m\u001b[1;39m,\r\n",
      "      \u001b[0m\u001b[34;1m\"moveMenuLeft\"\u001b[0m\u001b[1;39m: \u001b[0m\u001b[0;39mtrue\u001b[0m\u001b[1;39m,\r\n",
      "      \u001b[0m\u001b[34;1m\"nav_menu\"\u001b[0m\u001b[1;39m: \u001b[0m\u001b[1;39m{\r\n",
      "        \u001b[0m\u001b[34;1m\"height\"\u001b[0m\u001b[1;39m: \u001b[0m\u001b[0;32m\"30px\"\u001b[0m\u001b[1;39m,\r\n",
      "        \u001b[0m\u001b[34;1m\"width\"\u001b[0m\u001b[1;39m: \u001b[0m\u001b[0;32m\"252px\"\u001b[0m\u001b[1;39m\r\n",
      "      \u001b[1;39m}\u001b[0m\u001b[1;39m,\r\n",
      "      \u001b[0m\u001b[34;1m\"navigate_menu\"\u001b[0m\u001b[1;39m: \u001b[0m\u001b[0;39mtrue\u001b[0m\u001b[1;39m,\r\n",
      "      \u001b[0m\u001b[34;1m\"number_sections\"\u001b[0m\u001b[1;39m: \u001b[0m\u001b[0;39mtrue\u001b[0m\u001b[1;39m,\r\n",
      "      \u001b[0m\u001b[34;1m\"sideBar\"\u001b[0m\u001b[1;39m: \u001b[0m\u001b[0;39mtrue\u001b[0m\u001b[1;39m,\r\n",
      "      \u001b[0m\u001b[34;1m\"threshold\"\u001b[0m\u001b[1;39m: \u001b[0m\u001b[0;39m4\u001b[0m\u001b[1;39m,\r\n",
      "      \u001b[0m\u001b[34;1m\"toc_cell\"\u001b[0m\u001b[1;39m: \u001b[0m\u001b[0;39mfalse\u001b[0m\u001b[1;39m,\r\n",
      "      \u001b[0m\u001b[34;1m\"toc_section_display\"\u001b[0m\u001b[1;39m: \u001b[0m\u001b[0;32m\"block\"\u001b[0m\u001b[1;39m,\r\n",
      "      \u001b[0m\u001b[34;1m\"toc_window_display\"\u001b[0m\u001b[1;39m: \u001b[0m\u001b[0;39mfalse\u001b[0m\u001b[1;39m,\r\n",
      "      \u001b[0m\u001b[34;1m\"widenNotebook\"\u001b[0m\u001b[1;39m: \u001b[0m\u001b[0;39mfalse\u001b[0m\u001b[1;39m\r\n",
      "    \u001b[1;39m}\u001b[0m\u001b[1;39m,\r\n",
      "    \u001b[0m\u001b[34;1m\"varInspector\"\u001b[0m\u001b[1;39m: \u001b[0m\u001b[1;39m{\r\n",
      "      \u001b[0m\u001b[34;1m\"cols\"\u001b[0m\u001b[1;39m: \u001b[0m\u001b[1;39m{\r\n",
      "        \u001b[0m\u001b[34;1m\"lenName\"\u001b[0m\u001b[1;39m: \u001b[0m\u001b[0;39m16\u001b[0m\u001b[1;39m,\r\n",
      "        \u001b[0m\u001b[34;1m\"lenType\"\u001b[0m\u001b[1;39m: \u001b[0m\u001b[0;39m16\u001b[0m\u001b[1;39m,\r\n",
      "        \u001b[0m\u001b[34;1m\"lenVar\"\u001b[0m\u001b[1;39m: \u001b[0m\u001b[0;39m40\u001b[0m\u001b[1;39m\r\n",
      "      \u001b[1;39m}\u001b[0m\u001b[1;39m,\r\n",
      "      \u001b[0m\u001b[34;1m\"kernels_config\"\u001b[0m\u001b[1;39m: \u001b[0m\u001b[1;39m{\r\n",
      "        \u001b[0m\u001b[34;1m\"python\"\u001b[0m\u001b[1;39m: \u001b[0m\u001b[1;39m{\r\n",
      "          \u001b[0m\u001b[34;1m\"delete_cmd_postfix\"\u001b[0m\u001b[1;39m: \u001b[0m\u001b[0;32m\"\"\u001b[0m\u001b[1;39m,\r\n",
      "          \u001b[0m\u001b[34;1m\"delete_cmd_prefix\"\u001b[0m\u001b[1;39m: \u001b[0m\u001b[0;32m\"del \"\u001b[0m\u001b[1;39m,\r\n",
      "          \u001b[0m\u001b[34;1m\"library\"\u001b[0m\u001b[1;39m: \u001b[0m\u001b[0;32m\"var_list.py\"\u001b[0m\u001b[1;39m,\r\n",
      "          \u001b[0m\u001b[34;1m\"varRefreshCmd\"\u001b[0m\u001b[1;39m: \u001b[0m\u001b[0;32m\"print(var_dic_list())\"\u001b[0m\u001b[1;39m\r\n",
      "        \u001b[1;39m}\u001b[0m\u001b[1;39m,\r\n",
      "        \u001b[0m\u001b[34;1m\"r\"\u001b[0m\u001b[1;39m: \u001b[0m\u001b[1;39m{\r\n",
      "          \u001b[0m\u001b[34;1m\"delete_cmd_postfix\"\u001b[0m\u001b[1;39m: \u001b[0m\u001b[0;32m\") \"\u001b[0m\u001b[1;39m,\r\n",
      "          \u001b[0m\u001b[34;1m\"delete_cmd_prefix\"\u001b[0m\u001b[1;39m: \u001b[0m\u001b[0;32m\"rm(\"\u001b[0m\u001b[1;39m,\r\n",
      "          \u001b[0m\u001b[34;1m\"library\"\u001b[0m\u001b[1;39m: \u001b[0m\u001b[0;32m\"var_list.r\"\u001b[0m\u001b[1;39m,\r\n",
      "          \u001b[0m\u001b[34;1m\"varRefreshCmd\"\u001b[0m\u001b[1;39m: \u001b[0m\u001b[0;32m\"cat(var_dic_list()) \"\u001b[0m\u001b[1;39m\r\n",
      "        \u001b[1;39m}\u001b[0m\u001b[1;39m\r\n",
      "      \u001b[1;39m}\u001b[0m\u001b[1;39m,\r\n",
      "      \u001b[0m\u001b[34;1m\"types_to_exclude\"\u001b[0m\u001b[1;39m: \u001b[0m\u001b[1;39m[\r\n",
      "        \u001b[0;32m\"module\"\u001b[0m\u001b[1;39m,\r\n",
      "        \u001b[0;32m\"function\"\u001b[0m\u001b[1;39m,\r\n",
      "        \u001b[0;32m\"builtin_function_or_method\"\u001b[0m\u001b[1;39m,\r\n",
      "        \u001b[0;32m\"instance\"\u001b[0m\u001b[1;39m,\r\n",
      "        \u001b[0;32m\"_Feature\"\u001b[0m\u001b[1;39m\r\n",
      "      \u001b[1;39m]\u001b[0m\u001b[1;39m,\r\n",
      "      \u001b[0m\u001b[34;1m\"window_display\"\u001b[0m\u001b[1;39m: \u001b[0m\u001b[0;39mfalse\u001b[0m\u001b[1;39m\r\n",
      "    \u001b[1;39m}\u001b[0m\u001b[1;39m\r\n",
      "  \u001b[1;39m}\u001b[0m\u001b[1;39m,\r\n",
      "  \u001b[0m\u001b[34;1m\"nbformat\"\u001b[0m\u001b[1;39m: \u001b[0m\u001b[0;39m4\u001b[0m\u001b[1;39m,\r\n",
      "  \u001b[0m\u001b[34;1m\"nbformat_minor\"\u001b[0m\u001b[1;39m: \u001b[0m\u001b[0;39m2\u001b[0m\u001b[1;39m\r\n",
      "\u001b[1;39m}\u001b[0m\r\n"
     ]
    }
   ],
   "source": [
    "!jq '(.cells[]|select(.cell_type==\"code\"))|={\"cell_type\":.cell_type, \"source\":.source, \"metadata\":{}, \"execution_count\":null, \"outputs\":[]}' test.ipynb"
   ]
  },
  {
   "cell_type": "code",
   "execution_count": 9,
   "metadata": {
    "ExecuteTime": {
     "end_time": "2018-03-09T05:43:23.985056Z",
     "start_time": "2018-03-09T05:43:23.849183Z"
    }
   },
   "outputs": [
    {
     "name": "stdout",
     "output_type": "stream",
     "text": [
      "total 24\r\n",
      "drwxrwxr-x  4 okada okada  132  3月  9 14:41 .\r\n",
      "drwxrwxr-x 14 okada okada 4096  3月  9 12:30 ..\r\n",
      "drwxrwxr-x  8 okada okada  166  3月  9 14:41 .git\r\n",
      "drwxr-xr-x  2 okada okada   65  3月  9 14:03 .ipynb_checkpoints\r\n",
      "lrwxrwxrwx  1 okada okada   21  3月  9 14:13 pre-commit -> .git/hooks/pre-commit\r\n",
      "-rw-rw-r--  1 okada okada 3796  3月  9 14:41 test.bak\r\n",
      "-rw-rw-r--  1 okada okada 3833  3月  9 14:41 test.ipynb\r\n",
      "-rw-rw-r--  1 okada okada 2464  3月  9 14:35 test2.bak\r\n",
      "-rw-rw-r--  1 okada okada 2464  3月  9 14:35 test2.ipynb\r\n"
     ]
    }
   ],
   "source": [
    "!ls -la"
   ]
  },
  {
   "cell_type": "code",
   "execution_count": 10,
   "metadata": {
    "ExecuteTime": {
     "end_time": "2018-03-09T05:43:24.549398Z",
     "start_time": "2018-03-09T05:43:24.419327Z"
    }
   },
   "outputs": [
    {
     "name": "stdout",
     "output_type": "stream",
     "text": [
      "2018年  3月  9日 金曜日 14:43:24 JST\r\n"
     ]
    }
   ],
   "source": [
    "!date"
   ]
  },
  {
   "cell_type": "code",
   "execution_count": null,
   "metadata": {
    "collapsed": true
   },
   "outputs": [],
   "source": []
  }
 ],
 "metadata": {
  "hide_input": false,
  "kernelspec": {
   "display_name": "Python 3",
   "language": "python",
   "name": "python3"
  },
  "language_info": {
   "codemirror_mode": {
    "name": "ipython",
    "version": 3
   },
   "file_extension": ".py",
   "mimetype": "text/x-python",
   "name": "python",
   "nbconvert_exporter": "python",
   "pygments_lexer": "ipython3",
   "version": "3.6.1"
  },
  "toc": {
   "colors": {
    "hover_highlight": "#DAA520",
    "navigate_num": "#000000",
    "navigate_text": "#333333",
    "running_highlight": "#FF0000",
    "selected_highlight": "#FFD700",
    "sidebar_border": "#EEEEEE",
    "wrapper_background": "#FFFFFF"
   },
   "moveMenuLeft": true,
   "nav_menu": {
    "height": "30px",
    "width": "252px"
   },
   "navigate_menu": true,
   "number_sections": true,
   "sideBar": true,
   "threshold": 4,
   "toc_cell": false,
   "toc_section_display": "block",
   "toc_window_display": false,
   "widenNotebook": false
  },
  "varInspector": {
   "cols": {
    "lenName": 16,
    "lenType": 16,
    "lenVar": 40
   },
   "kernels_config": {
    "python": {
     "delete_cmd_postfix": "",
     "delete_cmd_prefix": "del ",
     "library": "var_list.py",
     "varRefreshCmd": "print(var_dic_list())"
    },
    "r": {
     "delete_cmd_postfix": ") ",
     "delete_cmd_prefix": "rm(",
     "library": "var_list.r",
     "varRefreshCmd": "cat(var_dic_list()) "
    }
   },
   "types_to_exclude": [
    "module",
    "function",
    "builtin_function_or_method",
    "instance",
    "_Feature"
   ],
   "window_display": false
  }
 },
 "nbformat": 4,
 "nbformat_minor": 2
}
